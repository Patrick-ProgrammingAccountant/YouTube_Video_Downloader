{
 "cells": [
  {
   "cell_type": "markdown",
   "metadata": {},
   "source": [
    "# YouTube Downloader via Python"
   ]
  },
  {
   "cell_type": "code",
   "execution_count": 18,
   "metadata": {
    "scrolled": true
   },
   "outputs": [
    {
     "name": "stdout",
     "output_type": "stream",
     "text": [
      "Give URL:\n",
      "None'https://www.youtube.com/watch?v=4SFhwxzfXNc'\n"
     ]
    },
    {
     "data": {
      "text/plain": [
       "'C:\\\\Users\\\\Owner\\\\Desktop\\\\YouTube\\\\Work JAZZ Music at Home - Delicious Bossa Nova JAZZ for WORK & STUDY Calm.mp4'"
      ]
     },
     "execution_count": 18,
     "metadata": {},
     "output_type": "execute_result"
    }
   ],
   "source": [
    "import pytube\n",
    "\n",
    "url = input(print(\"Give URL:\"))\n",
    "\n",
    "pytube.YouTube(url).streams.get_highest_resolution().download()"
   ]
  },
  {
   "cell_type": "code",
   "execution_count": 17,
   "metadata": {},
   "outputs": [
    {
     "name": "stdout",
     "output_type": "stream",
     "text": [
      "Title:  Work JAZZ Music at Home - Delicious Bossa Nova JAZZ for WORK & STUDY, Calm\n",
      "Number of views:  22872\n",
      "Length of video:  122.0 Minutes\n",
      "Ratings:  4.9049678\n"
     ]
    }
   ],
   "source": [
    "#Title of video\n",
    "print(\"Title: \", youtube.title)\n",
    "#Number of views of video\n",
    "print(\"Number of views: \", youtube.views)\n",
    "#Length of the video\n",
    "print(\"Length of video: \", (youtube.length/60), \"Minutes\")\n",
    "#Rating\n",
    "print(\"Ratings: \", youtube.rating)"
   ]
  },
  {
   "cell_type": "markdown",
   "metadata": {},
   "source": [
    "Code provided by: https://dev.to/seijind/how-to-download-youtube-videos-in-python-44od"
   ]
  },
  {
   "cell_type": "code",
   "execution_count": null,
   "metadata": {},
   "outputs": [],
   "source": []
  }
 ],
 "metadata": {
  "kernelspec": {
   "display_name": "Python 3",
   "language": "python",
   "name": "python3"
  },
  "language_info": {
   "codemirror_mode": {
    "name": "ipython",
    "version": 3
   },
   "file_extension": ".py",
   "mimetype": "text/x-python",
   "name": "python",
   "nbconvert_exporter": "python",
   "pygments_lexer": "ipython3",
   "version": "3.7.4"
  }
 },
 "nbformat": 4,
 "nbformat_minor": 2
}
